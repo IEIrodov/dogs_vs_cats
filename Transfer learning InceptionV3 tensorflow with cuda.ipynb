{
 "cells": [
  {
   "cell_type": "code",
   "execution_count": 1,
   "metadata": {},
   "outputs": [
    {
     "name": "stdout",
     "output_type": "stream",
     "text": [
      "2.4.1\n"
     ]
    },
    {
     "data": {
      "text/plain": [
       "[PhysicalDevice(name='/physical_device:CPU:0', device_type='CPU'),\n",
       " PhysicalDevice(name='/physical_device:GPU:0', device_type='GPU')]"
      ]
     },
     "execution_count": 1,
     "metadata": {},
     "output_type": "execute_result"
    }
   ],
   "source": [
    "import tensorflow as tf\n",
    "print(tf.__version__)\n",
    "tf.config.list_physical_devices()"
   ]
  },
  {
   "cell_type": "code",
   "execution_count": 2,
   "metadata": {},
   "outputs": [],
   "source": [
    "train_data_directory = 'D:/data science/cats and dogs/train/'\n",
    "\n",
    "image_size = (299,299)"
   ]
  },
  {
   "cell_type": "code",
   "execution_count": 3,
   "metadata": {},
   "outputs": [
    {
     "name": "stdout",
     "output_type": "stream",
     "text": [
      "Found 20000 images belonging to 2 classes.\n",
      "Found 5000 images belonging to 2 classes.\n"
     ]
    }
   ],
   "source": [
    "# image data preprocessing\n",
    "batch_size = 32\n",
    "\n",
    "\n",
    "class_mode = 'categorical' # for multi-class classification problem, use: class_mode = 'category' \n",
    "\n",
    "\n",
    "train_datagen = tf.keras.preprocessing.image.ImageDataGenerator(\n",
    "    rotation_range=10,\n",
    "    rescale=1./255,\n",
    "    shear_range=0.1,\n",
    "    zoom_range=0.1,\n",
    "    width_shift_range=0.1,\n",
    "    height_shift_range=0.1,\n",
    "    horizontal_flip=True,\n",
    "    vertical_flip=True,\n",
    "    validation_split=0.2 # set validation split\n",
    "    ) \n",
    "\n",
    "train_generator = train_datagen.flow_from_directory(\n",
    "    train_data_directory,\n",
    "    target_size=image_size,\n",
    "    batch_size=batch_size,\n",
    "    class_mode=class_mode, # for multi-class classification problem, use 'category'\n",
    "    subset='training') # set as training data\n",
    "\n",
    "validation_generator = train_datagen.flow_from_directory(\n",
    "    train_data_directory, # same directory as training data\n",
    "    target_size=image_size,\n",
    "    batch_size=batch_size,\n",
    "    class_mode=class_mode, # for multi-class classification problem, use 'category'\n",
    "    subset='validation') # set as validation data"
   ]
  },
  {
   "cell_type": "code",
   "execution_count": 4,
   "metadata": {},
   "outputs": [
    {
     "name": "stdout",
     "output_type": "stream",
     "text": [
      "Model: \"sequential\"\n",
      "_________________________________________________________________\n",
      "Layer (type)                 Output Shape              Param #   \n",
      "=================================================================\n",
      "inception_v3 (Functional)    (None, 8, 8, 2048)        21802784  \n",
      "_________________________________________________________________\n",
      "flatten (Flatten)            (None, 131072)            0         \n",
      "_________________________________________________________________\n",
      "dense (Dense)                (None, 2)                 262146    \n",
      "=================================================================\n",
      "Total params: 22,064,930\n",
      "Trainable params: 262,146\n",
      "Non-trainable params: 21,802,784\n",
      "_________________________________________________________________\n"
     ]
    }
   ],
   "source": [
    "# build a model\n",
    "base_model = tf.keras.applications.InceptionV3(weights='imagenet', include_top=False, input_shape=(299, 299, 3))\n",
    "\n",
    "base_model.trainable = False\n",
    "\n",
    "# Create the model\n",
    "model = tf.keras.Sequential()\n",
    "model.add(base_model)\n",
    "model.add(tf.keras.layers.Flatten())\n",
    "model.add(tf.keras.layers.Dense(2, activation='softmax'))\n",
    "\n",
    "model.summary()"
   ]
  },
  {
   "cell_type": "code",
   "execution_count": 5,
   "metadata": {},
   "outputs": [],
   "source": [
    "# compile model\n",
    "model.compile(loss='categorical_crossentropy',\n",
    "              optimizer=tf.keras.optimizers.Adam(lr=0.01),\n",
    "              metrics=['acc'])"
   ]
  },
  {
   "cell_type": "code",
   "execution_count": 6,
   "metadata": {},
   "outputs": [],
   "source": [
    "# Callbacks\n",
    "checkpoint = tf.keras.callbacks.ModelCheckpoint(\"InceptionV3_dogs_vs_cats.h5\", \n",
    "                             monitor='val_acc', \n",
    "                             verbose=1, \n",
    "                             save_best_only=True, \n",
    "                             save_weights_only=False, \n",
    "                             mode='auto', \n",
    "                             save_freq='epoch')\n",
    "early = tf.keras.callbacks.EarlyStopping(monitor='val_acc', \n",
    "                      min_delta=0, \n",
    "                      patience=5, \n",
    "                      verbose=1, \n",
    "                      mode='auto')\n",
    "learning_rate_reduction = tf.keras.callbacks.ReduceLROnPlateau(monitor='val_acc',\n",
    "                                            patience=1,\n",
    "                                            verbose=1,\n",
    "                                            factor=0.1,\n",
    "                                            min_lr=0.0000001)"
   ]
  },
  {
   "cell_type": "code",
   "execution_count": 7,
   "metadata": {
    "scrolled": false
   },
   "outputs": [
    {
     "name": "stdout",
     "output_type": "stream",
     "text": [
      "Epoch 1/1000\n",
      "625/625 [==============================] - 409s 635ms/step - loss: 15.1018 - acc: 0.9240 - val_loss: 52.9690 - val_acc: 0.8828\n",
      "\n",
      "Epoch 00001: val_acc improved from -inf to 0.88281, saving model to InceptionV3_dogs_vs_cats.h5\n",
      "Epoch 2/1000\n",
      "625/625 [==============================] - 389s 623ms/step - loss: 16.1058 - acc: 0.9595 - val_loss: 16.7237 - val_acc: 0.9547\n",
      "\n",
      "Epoch 00002: val_acc improved from 0.88281 to 0.95473, saving model to InceptionV3_dogs_vs_cats.h5\n",
      "Epoch 3/1000\n",
      "625/625 [==============================] - 390s 624ms/step - loss: 18.8784 - acc: 0.9549 - val_loss: 24.2465 - val_acc: 0.9537\n",
      "\n",
      "Epoch 00003: val_acc did not improve from 0.95473\n",
      "\n",
      "Epoch 00003: ReduceLROnPlateau reducing learning rate to 0.0009999999776482583.\n",
      "Epoch 4/1000\n",
      "625/625 [==============================] - 390s 625ms/step - loss: 13.5788 - acc: 0.9686 - val_loss: 14.1763 - val_acc: 0.9649\n",
      "\n",
      "Epoch 00004: val_acc improved from 0.95473 to 0.96494, saving model to InceptionV3_dogs_vs_cats.h5\n",
      "Epoch 5/1000\n",
      "625/625 [==============================] - 385s 616ms/step - loss: 9.5134 - acc: 0.9721 - val_loss: 12.7264 - val_acc: 0.9665\n",
      "\n",
      "Epoch 00005: val_acc improved from 0.96494 to 0.96655, saving model to InceptionV3_dogs_vs_cats.h5\n",
      "Epoch 6/1000\n",
      "625/625 [==============================] - 389s 623ms/step - loss: 8.4356 - acc: 0.9749 - val_loss: 12.7719 - val_acc: 0.9669\n",
      "\n",
      "Epoch 00006: val_acc improved from 0.96655 to 0.96695, saving model to InceptionV3_dogs_vs_cats.h5\n",
      "Epoch 7/1000\n",
      "625/625 [==============================] - 390s 624ms/step - loss: 7.0342 - acc: 0.9785 - val_loss: 11.4881 - val_acc: 0.9683\n",
      "\n",
      "Epoch 00007: val_acc improved from 0.96695 to 0.96835, saving model to InceptionV3_dogs_vs_cats.h5\n",
      "Epoch 8/1000\n",
      "625/625 [==============================] - 390s 624ms/step - loss: 7.7173 - acc: 0.9746 - val_loss: 13.3083 - val_acc: 0.9633\n",
      "\n",
      "Epoch 00008: val_acc did not improve from 0.96835\n",
      "\n",
      "Epoch 00008: ReduceLROnPlateau reducing learning rate to 9.999999310821295e-05.\n",
      "Epoch 9/1000\n",
      "625/625 [==============================] - 392s 628ms/step - loss: 6.1672 - acc: 0.9782 - val_loss: 10.2705 - val_acc: 0.9688\n",
      "\n",
      "Epoch 00009: val_acc improved from 0.96835 to 0.96875, saving model to InceptionV3_dogs_vs_cats.h5\n",
      "Epoch 10/1000\n",
      "625/625 [==============================] - 392s 628ms/step - loss: 6.7084 - acc: 0.9755 - val_loss: 10.9452 - val_acc: 0.9667\n",
      "\n",
      "Epoch 00010: val_acc did not improve from 0.96875\n",
      "\n",
      "Epoch 00010: ReduceLROnPlateau reducing learning rate to 9.999999019782991e-06.\n",
      "Epoch 11/1000\n",
      "625/625 [==============================] - 392s 627ms/step - loss: 6.9282 - acc: 0.9751 - val_loss: 10.6240 - val_acc: 0.9665\n",
      "\n",
      "Epoch 00011: val_acc did not improve from 0.96875\n",
      "\n",
      "Epoch 00011: ReduceLROnPlateau reducing learning rate to 9.99999883788405e-07.\n",
      "Epoch 12/1000\n",
      "625/625 [==============================] - 392s 627ms/step - loss: 6.2640 - acc: 0.9777 - val_loss: 11.0647 - val_acc: 0.9659\n",
      "\n",
      "Epoch 00012: val_acc did not improve from 0.96875\n",
      "\n",
      "Epoch 00012: ReduceLROnPlateau reducing learning rate to 1e-07.\n",
      "Epoch 13/1000\n",
      "625/625 [==============================] - 389s 622ms/step - loss: 7.0103 - acc: 0.9736 - val_loss: 8.9392 - val_acc: 0.9688\n",
      "\n",
      "Epoch 00013: val_acc did not improve from 0.96875\n",
      "\n",
      "Epoch 00013: ReduceLROnPlateau reducing learning rate to 1e-07.\n",
      "Epoch 14/1000\n",
      "625/625 [==============================] - 379s 607ms/step - loss: 7.3389 - acc: 0.9738 - val_loss: 8.8451 - val_acc: 0.9724\n",
      "\n",
      "Epoch 00014: val_acc improved from 0.96875 to 0.97236, saving model to InceptionV3_dogs_vs_cats.h5\n",
      "Epoch 15/1000\n",
      "625/625 [==============================] - 379s 606ms/step - loss: 6.9305 - acc: 0.9751 - val_loss: 10.3840 - val_acc: 0.9661\n",
      "\n",
      "Epoch 00015: val_acc did not improve from 0.97236\n",
      "\n",
      "Epoch 00015: ReduceLROnPlateau reducing learning rate to 1e-07.\n",
      "Epoch 16/1000\n",
      "625/625 [==============================] - 379s 606ms/step - loss: 7.0377 - acc: 0.9751 - val_loss: 9.1871 - val_acc: 0.9708\n",
      "\n",
      "Epoch 00016: val_acc did not improve from 0.97236\n",
      "\n",
      "Epoch 00016: ReduceLROnPlateau reducing learning rate to 1e-07.\n",
      "Epoch 17/1000\n",
      "625/625 [==============================] - 379s 606ms/step - loss: 5.7021 - acc: 0.9779 - val_loss: 10.3005 - val_acc: 0.9657\n",
      "\n",
      "Epoch 00017: val_acc did not improve from 0.97236\n",
      "\n",
      "Epoch 00017: ReduceLROnPlateau reducing learning rate to 1e-07.\n",
      "Epoch 18/1000\n",
      "625/625 [==============================] - 377s 603ms/step - loss: 6.6245 - acc: 0.9766 - val_loss: 11.2282 - val_acc: 0.9661\n",
      "\n",
      "Epoch 00018: val_acc did not improve from 0.97236\n",
      "\n",
      "Epoch 00018: ReduceLROnPlateau reducing learning rate to 1e-07.\n",
      "Epoch 19/1000\n",
      "625/625 [==============================] - 375s 600ms/step - loss: 5.8644 - acc: 0.9769 - val_loss: 11.1077 - val_acc: 0.9653\n",
      "\n",
      "Epoch 00019: val_acc did not improve from 0.97236\n",
      "\n",
      "Epoch 00019: ReduceLROnPlateau reducing learning rate to 1e-07.\n",
      "Epoch 00019: early stopping\n"
     ]
    }
   ],
   "source": [
    "# fit/train model\n",
    "\n",
    "nb_epochs = 1000\n",
    "\n",
    "history = model.fit(\n",
    "    train_generator,\n",
    "    steps_per_epoch = train_generator.samples // batch_size,\n",
    "    validation_data = validation_generator, \n",
    "    validation_steps = validation_generator.samples // batch_size,\n",
    "    epochs = nb_epochs,\n",
    "    callbacks=[checkpoint, early, learning_rate_reduction])"
   ]
  },
  {
   "cell_type": "code",
   "execution_count": 8,
   "metadata": {},
   "outputs": [
    {
     "data": {
      "image/png": "[encoded data removed]",
      "text/plain": [
       "<Figure size 432x288 with 1 Axes>"
      ]
     },
     "metadata": {
      "needs_background": "light"
     },
     "output_type": "display_data"
    },
    {
     "data": {
      "image/png": "[encoded data removed]",
      "text/plain": [
       "<Figure size 432x288 with 1 Axes>"
      ]
     },
     "metadata": {
      "needs_background": "light"
     },
     "output_type": "display_data"
    }
   ],
   "source": [
    "import matplotlib.pyplot as plt\n",
    "\n",
    "# summarize history for accuracy\n",
    "plt.plot(history.history['acc'])\n",
    "plt.plot(history.history['val_acc'])\n",
    "plt.title('model accuracy')\n",
    "plt.ylabel('accuracy')\n",
    "plt.xlabel('epoch')\n",
    "plt.legend(['train', 'test'], loc='upper left')\n",
    "plt.show()\n",
    "\n",
    "# summarize history for loss\n",
    "plt.plot(history.history['loss'])\n",
    "plt.plot(history.history['val_loss'])\n",
    "plt.title('model loss')\n",
    "plt.ylabel('loss')\n",
    "plt.xlabel('epoch')\n",
    "plt.legend(['train', 'test'], loc='upper left')\n",
    "plt.show()"
   ]
  },
  {
   "cell_type": "code",
   "execution_count": null,
   "metadata": {},
   "outputs": [],
   "source": []
  }
 ],
 "metadata": {
  "kernelspec": {
   "display_name": "Python 3.7 (tensorflow)",
   "language": "python",
   "name": "tensorflow"
  },
  "language_info": {
   "codemirror_mode": {
    "name": "ipython",
    "version": 3
   },
   "file_extension": ".py",
   "mimetype": "text/x-python",
   "name": "python",
   "nbconvert_exporter": "python",
   "pygments_lexer": "ipython3",
   "version": "3.8.6"
  }
 },
 "nbformat": 4,
 "nbformat_minor": 4
}
