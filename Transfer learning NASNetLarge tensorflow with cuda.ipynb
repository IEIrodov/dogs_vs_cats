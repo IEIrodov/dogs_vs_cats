{
 "cells": [
  {
   "cell_type": "code",
   "execution_count": 1,
   "metadata": {},
   "outputs": [
    {
     "name": "stdout",
     "output_type": "stream",
     "text": [
      "2.4.1\n"
     ]
    },
    {
     "data": {
      "text/plain": [
       "[PhysicalDevice(name='/physical_device:CPU:0', device_type='CPU'),\n",
       " PhysicalDevice(name='/physical_device:GPU:0', device_type='GPU')]"
      ]
     },
     "execution_count": 1,
     "metadata": {},
     "output_type": "execute_result"
    }
   ],
   "source": [
    "import tensorflow as tf\n",
    "print(tf.__version__)\n",
    "tf.config.list_physical_devices()"
   ]
  },
  {
   "cell_type": "code",
   "execution_count": 2,
   "metadata": {},
   "outputs": [],
   "source": [
    "train_data_directory = 'D:/data science/cats and dogs/train/'\n",
    "\n",
    "image_size = (331,331)"
   ]
  },
  {
   "cell_type": "code",
   "execution_count": 3,
   "metadata": {},
   "outputs": [
    {
     "name": "stdout",
     "output_type": "stream",
     "text": [
      "Found 20000 images belonging to 2 classes.\n",
      "Found 5000 images belonging to 2 classes.\n"
     ]
    }
   ],
   "source": [
    "# image data preprocessing\n",
    "batch_size = 32\n",
    "\n",
    "\n",
    "class_mode = 'categorical' # for multi-class classification problem, use: class_mode = 'category' \n",
    "\n",
    "\n",
    "train_datagen = tf.keras.preprocessing.image.ImageDataGenerator(\n",
    "    rotation_range=10,\n",
    "    rescale=1./255,\n",
    "    shear_range=0.1,\n",
    "    zoom_range=0.1,\n",
    "    width_shift_range=0.1,\n",
    "    height_shift_range=0.1,\n",
    "    horizontal_flip=True,\n",
    "    vertical_flip=True,\n",
    "    validation_split=0.2 # set validation split\n",
    "    ) \n",
    "\n",
    "train_generator = train_datagen.flow_from_directory(\n",
    "    train_data_directory,\n",
    "    target_size=image_size,\n",
    "    batch_size=batch_size,\n",
    "    class_mode=class_mode, # for multi-class classification problem, use 'category'\n",
    "    subset='training') # set as training data\n",
    "\n",
    "validation_generator = train_datagen.flow_from_directory(\n",
    "    train_data_directory, # same directory as training data\n",
    "    target_size=image_size,\n",
    "    batch_size=batch_size,\n",
    "    class_mode=class_mode, # for multi-class classification problem, use 'category'\n",
    "    subset='validation') # set as validation data"
   ]
  },
  {
   "cell_type": "code",
   "execution_count": 4,
   "metadata": {},
   "outputs": [
    {
     "name": "stdout",
     "output_type": "stream",
     "text": [
      "Model: \"sequential\"\n",
      "_________________________________________________________________\n",
      "Layer (type)                 Output Shape              Param #   \n",
      "=================================================================\n",
      "NASNet (Functional)          (None, 11, 11, 4032)      84916818  \n",
      "_________________________________________________________________\n",
      "flatten (Flatten)            (None, 487872)            0         \n",
      "_________________________________________________________________\n",
      "dense (Dense)                (None, 2)                 975746    \n",
      "=================================================================\n",
      "Total params: 85,892,564\n",
      "Trainable params: 975,746\n",
      "Non-trainable params: 84,916,818\n",
      "_________________________________________________________________\n"
     ]
    }
   ],
   "source": [
    "# build a model\n",
    "base_model = tf.keras.applications.NASNetLarge(weights='imagenet', include_top=False, input_shape=(331, 331, 3))\n",
    "\n",
    "base_model.trainable = False\n",
    "\n",
    "# Create the model\n",
    "model = tf.keras.Sequential()\n",
    "model.add(base_model)\n",
    "model.add(tf.keras.layers.Flatten())\n",
    "model.add(tf.keras.layers.Dense(2, activation='softmax'))\n",
    "\n",
    "model.summary()"
   ]
  },
  {
   "cell_type": "code",
   "execution_count": 5,
   "metadata": {},
   "outputs": [],
   "source": [
    "# compile model\n",
    "model.compile(loss='categorical_crossentropy',\n",
    "              optimizer=tf.keras.optimizers.Adam(lr=0.01),\n",
    "              metrics=['acc'])"
   ]
  },
  {
   "cell_type": "code",
   "execution_count": 6,
   "metadata": {},
   "outputs": [],
   "source": [
    "# Callbacks\n",
    "checkpoint = tf.keras.callbacks.ModelCheckpoint(\"NASNetLarge_dogs_vs_cats.h5\", \n",
    "                             monitor='val_acc', \n",
    "                             verbose=1, \n",
    "                             save_best_only=True, \n",
    "                             save_weights_only=False, \n",
    "                             mode='auto', \n",
    "                             save_freq='epoch')\n",
    "early = tf.keras.callbacks.EarlyStopping(monitor='val_acc', \n",
    "                      min_delta=0, \n",
    "                      patience=5, \n",
    "                      verbose=1, \n",
    "                      mode='auto')\n",
    "learning_rate_reduction = tf.keras.callbacks.ReduceLROnPlateau(monitor='val_acc',\n",
    "                                            patience=1,\n",
    "                                            verbose=1,\n",
    "                                            factor=0.1,\n",
    "                                            min_lr=0.0000001)"
   ]
  },
  {
   "cell_type": "code",
   "execution_count": 7,
   "metadata": {
    "scrolled": false
   },
   "outputs": [
    {
     "name": "stdout",
     "output_type": "stream",
     "text": [
      "Epoch 1/1000\n",
      "625/625 [==============================] - 488s 747ms/step - loss: 19.1375 - acc: 0.9521 - val_loss: 35.7897 - val_acc: 0.9541\n",
      "\n",
      "Epoch 00001: val_acc improved from -inf to 0.95413, saving model to NASNetLarge_dogs_vs_cats.h5\n",
      "Epoch 2/1000\n",
      "625/625 [==============================] - 463s 741ms/step - loss: 24.4256 - acc: 0.9700 - val_loss: 34.1757 - val_acc: 0.9667\n",
      "\n",
      "Epoch 00002: val_acc improved from 0.95413 to 0.96675, saving model to NASNetLarge_dogs_vs_cats.h5\n",
      "Epoch 3/1000\n",
      "625/625 [==============================] - 463s 741ms/step - loss: 23.7600 - acc: 0.9750 - val_loss: 29.4809 - val_acc: 0.9706\n",
      "\n",
      "Epoch 00003: val_acc improved from 0.96675 to 0.97055, saving model to NASNetLarge_dogs_vs_cats.h5\n",
      "Epoch 4/1000\n",
      "625/625 [==============================] - 463s 741ms/step - loss: 22.5560 - acc: 0.9768 - val_loss: 32.8045 - val_acc: 0.9748\n",
      "\n",
      "Epoch 00004: val_acc improved from 0.97055 to 0.97476, saving model to NASNetLarge_dogs_vs_cats.h5\n",
      "Epoch 5/1000\n",
      "625/625 [==============================] - 463s 740ms/step - loss: 24.0943 - acc: 0.9794 - val_loss: 35.7198 - val_acc: 0.9710\n",
      "\n",
      "Epoch 00005: val_acc did not improve from 0.97476\n",
      "\n",
      "Epoch 00005: ReduceLROnPlateau reducing learning rate to 0.0009999999776482583.\n",
      "Epoch 6/1000\n",
      "625/625 [==============================] - 459s 734ms/step - loss: 17.2746 - acc: 0.9825 - val_loss: 37.6354 - val_acc: 0.9720\n",
      "\n",
      "Epoch 00006: val_acc did not improve from 0.97476\n",
      "\n",
      "Epoch 00006: ReduceLROnPlateau reducing learning rate to 9.999999310821295e-05.\n",
      "Epoch 7/1000\n",
      "625/625 [==============================] - 461s 737ms/step - loss: 15.1874 - acc: 0.9851 - val_loss: 29.0441 - val_acc: 0.9764\n",
      "\n",
      "Epoch 00007: val_acc improved from 0.97476 to 0.97636, saving model to NASNetLarge_dogs_vs_cats.h5\n",
      "Epoch 8/1000\n",
      "625/625 [==============================] - 455s 728ms/step - loss: 15.3828 - acc: 0.9845 - val_loss: 30.3997 - val_acc: 0.9786\n",
      "\n",
      "Epoch 00008: val_acc improved from 0.97636 to 0.97857, saving model to NASNetLarge_dogs_vs_cats.h5\n",
      "Epoch 9/1000\n",
      "625/625 [==============================] - 463s 741ms/step - loss: 15.3889 - acc: 0.9847 - val_loss: 31.1882 - val_acc: 0.9760\n",
      "\n",
      "Epoch 00009: val_acc did not improve from 0.97857\n",
      "\n",
      "Epoch 00009: ReduceLROnPlateau reducing learning rate to 9.999999019782991e-06.\n",
      "Epoch 10/1000\n",
      "625/625 [==============================] - 465s 743ms/step - loss: 13.7165 - acc: 0.9869 - val_loss: 30.2123 - val_acc: 0.9770\n",
      "\n",
      "Epoch 00010: val_acc did not improve from 0.97857\n",
      "\n",
      "Epoch 00010: ReduceLROnPlateau reducing learning rate to 9.99999883788405e-07.\n",
      "Epoch 11/1000\n",
      "625/625 [==============================] - 500s 800ms/step - loss: 15.6146 - acc: 0.9839 - val_loss: 30.1906 - val_acc: 0.9774\n",
      "\n",
      "Epoch 00011: val_acc did not improve from 0.97857\n",
      "\n",
      "Epoch 00011: ReduceLROnPlateau reducing learning rate to 1e-07.\n",
      "Epoch 12/1000\n",
      "625/625 [==============================] - 505s 808ms/step - loss: 13.3782 - acc: 0.9853 - val_loss: 29.1527 - val_acc: 0.9770\n",
      "\n",
      "Epoch 00012: val_acc did not improve from 0.97857\n",
      "\n",
      "Epoch 00012: ReduceLROnPlateau reducing learning rate to 1e-07.\n",
      "Epoch 13/1000\n",
      "625/625 [==============================] - 464s 743ms/step - loss: 14.9485 - acc: 0.9838 - val_loss: 31.7911 - val_acc: 0.9746\n",
      "\n",
      "Epoch 00013: val_acc did not improve from 0.97857\n",
      "\n",
      "Epoch 00013: ReduceLROnPlateau reducing learning rate to 1e-07.\n",
      "Epoch 00013: early stopping\n"
     ]
    }
   ],
   "source": [
    "# fit/train model\n",
    "\n",
    "nb_epochs = 1000\n",
    "\n",
    "history = model.fit(\n",
    "    train_generator,\n",
    "    steps_per_epoch = train_generator.samples // batch_size,\n",
    "    validation_data = validation_generator, \n",
    "    validation_steps = validation_generator.samples // batch_size,\n",
    "    epochs = nb_epochs,\n",
    "    callbacks=[checkpoint, early, learning_rate_reduction])"
   ]
  },
  {
   "cell_type": "code",
   "execution_count": 8,
   "metadata": {},
   "outputs": [
    {
     "data": {
      "image/png": "[encoded data removed]",
      "text/plain": [
       "<Figure size 432x288 with 1 Axes>"
      ]
     },
     "metadata": {
      "needs_background": "light"
     },
     "output_type": "display_data"
    },
    {
     "data": {
      "image/png": "[encoded data removed]",
      "text/plain": [
       "<Figure size 432x288 with 1 Axes>"
      ]
     },
     "metadata": {
      "needs_background": "light"
     },
     "output_type": "display_data"
    }
   ],
   "source": [
    "import matplotlib.pyplot as plt\n",
    "\n",
    "# summarize history for accuracy\n",
    "plt.plot(history.history['acc'])\n",
    "plt.plot(history.history['val_acc'])\n",
    "plt.title('model accuracy')\n",
    "plt.ylabel('accuracy')\n",
    "plt.xlabel('epoch')\n",
    "plt.legend(['train', 'test'], loc='upper left')\n",
    "plt.show()\n",
    "\n",
    "# summarize history for loss\n",
    "plt.plot(history.history['loss'])\n",
    "plt.plot(history.history['val_loss'])\n",
    "plt.title('model loss')\n",
    "plt.ylabel('loss')\n",
    "plt.xlabel('epoch')\n",
    "plt.legend(['train', 'test'], loc='upper left')\n",
    "plt.show()"
   ]
  },
  {
   "cell_type": "code",
   "execution_count": null,
   "metadata": {},
   "outputs": [],
   "source": []
  }
 ],
 "metadata": {
  "kernelspec": {
   "display_name": "Python 3",
   "language": "python",
   "name": "python3"
  },
  "language_info": {
   "codemirror_mode": {
    "name": "ipython",
    "version": 3
   },
   "file_extension": ".py",
   "mimetype": "text/x-python",
   "name": "python",
   "nbconvert_exporter": "python",
   "pygments_lexer": "ipython3",
   "version": "3.8.6"
  }
 },
 "nbformat": 4,
 "nbformat_minor": 4
}
